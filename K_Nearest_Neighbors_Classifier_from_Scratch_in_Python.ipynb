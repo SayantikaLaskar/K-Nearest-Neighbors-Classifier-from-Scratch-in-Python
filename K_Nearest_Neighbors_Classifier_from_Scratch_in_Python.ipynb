{
  "nbformat": 4,
  "nbformat_minor": 0,
  "metadata": {
    "colab": {
      "provenance": []
    },
    "kernelspec": {
      "name": "python3",
      "display_name": "Python 3"
    },
    "language_info": {
      "name": "python"
    }
  },
  "cells": [
    {
      "cell_type": "markdown",
      "source": [
        "Importing the Dependencies"
      ],
      "metadata": {
        "id": "ODGYPOvewTCY"
      }
    },
    {
      "cell_type": "code",
      "execution_count": 1,
      "metadata": {
        "id": "9_IKA0G7wPkL"
      },
      "outputs": [],
      "source": [
        "import numpy as np\n",
        "import statistics"
      ]
    },
    {
      "cell_type": "markdown",
      "source": [
        "**K-Nearest Neighbors**\n"
      ],
      "metadata": {
        "id": "zlQLonfuxLhW"
      }
    },
    {
      "cell_type": "code",
      "source": [
        "class KNN_Classifier():\n",
        "\n",
        "\n",
        "   #initiating the parameters\n",
        "  def __init__(self, distance_metric):\n",
        "\n",
        "    self.get_distance_metric = distance_metric\n",
        "\n",
        "   # getting the distant metric\n",
        "  def get_distance_metric(self, training_data_point, test_data_point):\n",
        "    if (self.distance_metric == 'euclidean'):\n",
        "\n",
        "      dist = 0\n",
        "\n",
        "      for i in range(len(training_data_point) -1):\n",
        "        dist = dist + (training_data_point[i] - test_data_point[i])**2\n",
        "\n",
        "      euclidean_dist = np.sqrt(dist)\n",
        "      return euclidean_dist\n",
        "\n",
        "    elif (self.distance_metric == 'manhattan'):\n",
        "\n",
        "\n",
        "\n",
        "     dist = 0\n",
        "\n",
        "     for i in range(len(training_data_point) -1):\n",
        "       dist= dist + abs(training_data_point[i] - test_data_point[i])\n",
        "\n",
        "     manhattan_dist = dist\n",
        "     return manhattan_dist\n",
        "\n",
        "\n",
        "\n",
        "  # getting the nearest neighbors\n",
        "  def nearest_neighbor(self, X_train, test_data, k):\n",
        "\n",
        "    distance_list = []\n",
        "\n",
        "    for training_data in X_train:\n",
        "\n",
        "      distance = self.get_distance_metric(training_data, test_data)\n",
        "      distance_list.append(training_data, distance)\n",
        "\n",
        "    distance_list.sort(key=lambda x:x[1])\n",
        "\n",
        "    neighbors_list = []\n",
        "\n",
        "    for j in range(k):\n",
        "      neighbors_list.append(distance_list[j][0])\n",
        "\n",
        "    return neighbors_list\n",
        "\n",
        "\n",
        "\n",
        "  # predict the class of new data point\n",
        "  def predict(self, X_train, test_data, k):\n",
        "\n",
        "    neighbors = self.nearest_neighbors()\n",
        "\n",
        "    for data in nieghbors:\n",
        "      label = []\n",
        "      label.append(data[-1])\n",
        "\n",
        "    predicted_class = statistics.mode(label)\n",
        "\n",
        "    return predicted_class\n",
        "\n",
        "\n",
        "\n"
      ],
      "metadata": {
        "id": "YxSoYLKLxOKt"
      },
      "execution_count": 8,
      "outputs": []
    },
    {
      "cell_type": "code",
      "source": [
        "classifier = KNN_Classifier(distance_metric='euclidean')"
      ],
      "metadata": {
        "id": "qVUbUCfvyghh"
      },
      "execution_count": 13,
      "outputs": []
    },
    {
      "cell_type": "code",
      "source": [
        "classifier = KNN_Classifier(distance_metric='manhattan')"
      ],
      "metadata": {
        "id": "TqM5fcSkPrN2"
      },
      "execution_count": 14,
      "outputs": []
    }
  ]
}